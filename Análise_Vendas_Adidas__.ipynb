{
 "cells": [
  {
   "cell_type": "markdown",
   "id": "e55696f8",
   "metadata": {},
   "source": [
    "## Análise nas vendas da marca Adidas, com possíveis previsões dos preços, verificação de variáveis e suas correlações.\n",
    "\n"
   ]
  },
  {
   "cell_type": "markdown",
   "id": "463e7792",
   "metadata": {},
   "source": [
    "## 1. Importação das bibliotecas mais importantes para esta análise, bem como as manipulações do dataframe"
   ]
  },
  {
   "cell_type": "code",
   "execution_count": 57,
   "id": "c6778ea0",
   "metadata": {},
   "outputs": [],
   "source": [
    "import pandas as pd\n",
    "import numpy as np\n",
    "import seaborn as sns\n",
    "import matplotlib.pyplot as plt\n",
    "from sklearn import linear_model as ln"
   ]
  },
  {
   "cell_type": "code",
   "execution_count": 6,
   "id": "343d1d83",
   "metadata": {},
   "outputs": [],
   "source": [
    "# Leitura do arquivo xlsx com a utilização do read\n",
    "\n",
    "df = pd.read_excel(\"C:/Users/lucas/OneDrive/PROGRAMAÇÃO/Adidas US Sales Datasets.xlsx\")"
   ]
  },
  {
   "cell_type": "code",
   "execution_count": 379,
   "id": "9ecd1b0a",
   "metadata": {},
   "outputs": [
    {
     "data": {
      "text/html": [
       "<div>\n",
       "<style scoped>\n",
       "    .dataframe tbody tr th:only-of-type {\n",
       "        vertical-align: middle;\n",
       "    }\n",
       "\n",
       "    .dataframe tbody tr th {\n",
       "        vertical-align: top;\n",
       "    }\n",
       "\n",
       "    .dataframe thead th {\n",
       "        text-align: right;\n",
       "    }\n",
       "</style>\n",
       "<table border=\"1\" class=\"dataframe\">\n",
       "  <thead>\n",
       "    <tr style=\"text-align: right;\">\n",
       "      <th></th>\n",
       "      <th>Retailer</th>\n",
       "      <th>Retailer ID</th>\n",
       "      <th>Invoice Date</th>\n",
       "      <th>Region</th>\n",
       "      <th>State</th>\n",
       "      <th>City</th>\n",
       "      <th>Product</th>\n",
       "      <th>Price per Unit</th>\n",
       "      <th>Units Sold</th>\n",
       "      <th>Total Sales</th>\n",
       "      <th>Operating Profit</th>\n",
       "      <th>Operating Margin</th>\n",
       "      <th>Sales Method</th>\n",
       "    </tr>\n",
       "  </thead>\n",
       "  <tbody>\n",
       "    <tr>\n",
       "      <th>0</th>\n",
       "      <td>Foot Locker</td>\n",
       "      <td>1185732</td>\n",
       "      <td>2020-01-01</td>\n",
       "      <td>Northeast</td>\n",
       "      <td>New York</td>\n",
       "      <td>New York</td>\n",
       "      <td>Men's Street Footwear</td>\n",
       "      <td>50</td>\n",
       "      <td>1200</td>\n",
       "      <td>600000.0</td>\n",
       "      <td>300000.0</td>\n",
       "      <td>0.50</td>\n",
       "      <td>In-store</td>\n",
       "    </tr>\n",
       "    <tr>\n",
       "      <th>1</th>\n",
       "      <td>Foot Locker</td>\n",
       "      <td>1185732</td>\n",
       "      <td>2020-01-02</td>\n",
       "      <td>Northeast</td>\n",
       "      <td>New York</td>\n",
       "      <td>New York</td>\n",
       "      <td>Men's Athletic Footwear</td>\n",
       "      <td>50</td>\n",
       "      <td>1000</td>\n",
       "      <td>500000.0</td>\n",
       "      <td>150000.0</td>\n",
       "      <td>0.30</td>\n",
       "      <td>In-store</td>\n",
       "    </tr>\n",
       "    <tr>\n",
       "      <th>2</th>\n",
       "      <td>Foot Locker</td>\n",
       "      <td>1185732</td>\n",
       "      <td>2020-01-03</td>\n",
       "      <td>Northeast</td>\n",
       "      <td>New York</td>\n",
       "      <td>New York</td>\n",
       "      <td>Women's Street Footwear</td>\n",
       "      <td>40</td>\n",
       "      <td>1000</td>\n",
       "      <td>400000.0</td>\n",
       "      <td>140000.0</td>\n",
       "      <td>0.35</td>\n",
       "      <td>In-store</td>\n",
       "    </tr>\n",
       "    <tr>\n",
       "      <th>3</th>\n",
       "      <td>Foot Locker</td>\n",
       "      <td>1185732</td>\n",
       "      <td>2020-01-04</td>\n",
       "      <td>Northeast</td>\n",
       "      <td>New York</td>\n",
       "      <td>New York</td>\n",
       "      <td>Women's Athletic Footwear</td>\n",
       "      <td>45</td>\n",
       "      <td>850</td>\n",
       "      <td>382500.0</td>\n",
       "      <td>133875.0</td>\n",
       "      <td>0.35</td>\n",
       "      <td>In-store</td>\n",
       "    </tr>\n",
       "    <tr>\n",
       "      <th>4</th>\n",
       "      <td>Foot Locker</td>\n",
       "      <td>1185732</td>\n",
       "      <td>2020-01-05</td>\n",
       "      <td>Northeast</td>\n",
       "      <td>New York</td>\n",
       "      <td>New York</td>\n",
       "      <td>Men's Apparel</td>\n",
       "      <td>60</td>\n",
       "      <td>900</td>\n",
       "      <td>540000.0</td>\n",
       "      <td>162000.0</td>\n",
       "      <td>0.30</td>\n",
       "      <td>In-store</td>\n",
       "    </tr>\n",
       "    <tr>\n",
       "      <th>5</th>\n",
       "      <td>Foot Locker</td>\n",
       "      <td>1185732</td>\n",
       "      <td>2020-01-06</td>\n",
       "      <td>Northeast</td>\n",
       "      <td>New York</td>\n",
       "      <td>New York</td>\n",
       "      <td>Women's Apparel</td>\n",
       "      <td>50</td>\n",
       "      <td>1000</td>\n",
       "      <td>500000.0</td>\n",
       "      <td>125000.0</td>\n",
       "      <td>0.25</td>\n",
       "      <td>In-store</td>\n",
       "    </tr>\n",
       "  </tbody>\n",
       "</table>\n",
       "</div>"
      ],
      "text/plain": [
       "      Retailer  Retailer ID Invoice Date     Region     State      City  \\\n",
       "0  Foot Locker      1185732   2020-01-01  Northeast  New York  New York   \n",
       "1  Foot Locker      1185732   2020-01-02  Northeast  New York  New York   \n",
       "2  Foot Locker      1185732   2020-01-03  Northeast  New York  New York   \n",
       "3  Foot Locker      1185732   2020-01-04  Northeast  New York  New York   \n",
       "4  Foot Locker      1185732   2020-01-05  Northeast  New York  New York   \n",
       "5  Foot Locker      1185732   2020-01-06  Northeast  New York  New York   \n",
       "\n",
       "                     Product  Price per Unit  Units Sold  Total Sales  \\\n",
       "0      Men's Street Footwear              50        1200     600000.0   \n",
       "1    Men's Athletic Footwear              50        1000     500000.0   \n",
       "2    Women's Street Footwear              40        1000     400000.0   \n",
       "3  Women's Athletic Footwear              45         850     382500.0   \n",
       "4              Men's Apparel              60         900     540000.0   \n",
       "5            Women's Apparel              50        1000     500000.0   \n",
       "\n",
       "   Operating Profit  Operating Margin Sales Method  \n",
       "0          300000.0              0.50     In-store  \n",
       "1          150000.0              0.30     In-store  \n",
       "2          140000.0              0.35     In-store  \n",
       "3          133875.0              0.35     In-store  \n",
       "4          162000.0              0.30     In-store  \n",
       "5          125000.0              0.25     In-store  "
      ]
     },
     "execution_count": 379,
     "metadata": {},
     "output_type": "execute_result"
    }
   ],
   "source": [
    "# Visualização do dataframe\n",
    "\n",
    "df.head(6)"
   ]
  },
  {
   "cell_type": "code",
   "execution_count": 8,
   "id": "3c9b0ee7",
   "metadata": {},
   "outputs": [
    {
     "data": {
      "text/html": [
       "<div>\n",
       "<style scoped>\n",
       "    .dataframe tbody tr th:only-of-type {\n",
       "        vertical-align: middle;\n",
       "    }\n",
       "\n",
       "    .dataframe tbody tr th {\n",
       "        vertical-align: top;\n",
       "    }\n",
       "\n",
       "    .dataframe thead th {\n",
       "        text-align: right;\n",
       "    }\n",
       "</style>\n",
       "<table border=\"1\" class=\"dataframe\">\n",
       "  <thead>\n",
       "    <tr style=\"text-align: right;\">\n",
       "      <th></th>\n",
       "      <th>Retailer ID</th>\n",
       "      <th>Price per Unit</th>\n",
       "      <th>Units Sold</th>\n",
       "      <th>Total Sales</th>\n",
       "      <th>Operating Profit</th>\n",
       "      <th>Operating Margin</th>\n",
       "    </tr>\n",
       "  </thead>\n",
       "  <tbody>\n",
       "    <tr>\n",
       "      <th>count</th>\n",
       "      <td>9.648000e+03</td>\n",
       "      <td>9648.000000</td>\n",
       "      <td>9648.000000</td>\n",
       "      <td>9648.000000</td>\n",
       "      <td>9648.000000</td>\n",
       "      <td>9648.000000</td>\n",
       "    </tr>\n",
       "    <tr>\n",
       "      <th>mean</th>\n",
       "      <td>1.173850e+06</td>\n",
       "      <td>45.216625</td>\n",
       "      <td>256.930037</td>\n",
       "      <td>93273.437500</td>\n",
       "      <td>34425.244761</td>\n",
       "      <td>0.422991</td>\n",
       "    </tr>\n",
       "    <tr>\n",
       "      <th>std</th>\n",
       "      <td>2.636038e+04</td>\n",
       "      <td>14.705397</td>\n",
       "      <td>214.252030</td>\n",
       "      <td>141916.016727</td>\n",
       "      <td>54193.113713</td>\n",
       "      <td>0.097197</td>\n",
       "    </tr>\n",
       "    <tr>\n",
       "      <th>min</th>\n",
       "      <td>1.128299e+06</td>\n",
       "      <td>7.000000</td>\n",
       "      <td>0.000000</td>\n",
       "      <td>0.000000</td>\n",
       "      <td>0.000000</td>\n",
       "      <td>0.100000</td>\n",
       "    </tr>\n",
       "    <tr>\n",
       "      <th>25%</th>\n",
       "      <td>1.185732e+06</td>\n",
       "      <td>35.000000</td>\n",
       "      <td>106.000000</td>\n",
       "      <td>4254.500000</td>\n",
       "      <td>1921.752500</td>\n",
       "      <td>0.350000</td>\n",
       "    </tr>\n",
       "    <tr>\n",
       "      <th>50%</th>\n",
       "      <td>1.185732e+06</td>\n",
       "      <td>45.000000</td>\n",
       "      <td>176.000000</td>\n",
       "      <td>9576.000000</td>\n",
       "      <td>4371.420000</td>\n",
       "      <td>0.410000</td>\n",
       "    </tr>\n",
       "    <tr>\n",
       "      <th>75%</th>\n",
       "      <td>1.185732e+06</td>\n",
       "      <td>55.000000</td>\n",
       "      <td>350.000000</td>\n",
       "      <td>150000.000000</td>\n",
       "      <td>52062.500000</td>\n",
       "      <td>0.490000</td>\n",
       "    </tr>\n",
       "    <tr>\n",
       "      <th>max</th>\n",
       "      <td>1.197831e+06</td>\n",
       "      <td>110.000000</td>\n",
       "      <td>1275.000000</td>\n",
       "      <td>825000.000000</td>\n",
       "      <td>390000.000000</td>\n",
       "      <td>0.800000</td>\n",
       "    </tr>\n",
       "  </tbody>\n",
       "</table>\n",
       "</div>"
      ],
      "text/plain": [
       "        Retailer ID  Price per Unit   Units Sold    Total Sales  \\\n",
       "count  9.648000e+03     9648.000000  9648.000000    9648.000000   \n",
       "mean   1.173850e+06       45.216625   256.930037   93273.437500   \n",
       "std    2.636038e+04       14.705397   214.252030  141916.016727   \n",
       "min    1.128299e+06        7.000000     0.000000       0.000000   \n",
       "25%    1.185732e+06       35.000000   106.000000    4254.500000   \n",
       "50%    1.185732e+06       45.000000   176.000000    9576.000000   \n",
       "75%    1.185732e+06       55.000000   350.000000  150000.000000   \n",
       "max    1.197831e+06      110.000000  1275.000000  825000.000000   \n",
       "\n",
       "       Operating Profit  Operating Margin  \n",
       "count       9648.000000       9648.000000  \n",
       "mean       34425.244761          0.422991  \n",
       "std        54193.113713          0.097197  \n",
       "min            0.000000          0.100000  \n",
       "25%         1921.752500          0.350000  \n",
       "50%         4371.420000          0.410000  \n",
       "75%        52062.500000          0.490000  \n",
       "max       390000.000000          0.800000  "
      ]
     },
     "execution_count": 8,
     "metadata": {},
     "output_type": "execute_result"
    }
   ],
   "source": [
    "# Suas possíveis informações, como contagem, média, desvio padrão e ademais...\n",
    "\n",
    "df.describe()"
   ]
  },
  {
   "cell_type": "code",
   "execution_count": 9,
   "id": "f5f6b0fb",
   "metadata": {},
   "outputs": [
    {
     "name": "stdout",
     "output_type": "stream",
     "text": [
      "<class 'pandas.core.frame.DataFrame'>\n",
      "RangeIndex: 9648 entries, 0 to 9647\n",
      "Data columns (total 13 columns):\n",
      " #   Column            Non-Null Count  Dtype         \n",
      "---  ------            --------------  -----         \n",
      " 0   Retailer          9648 non-null   object        \n",
      " 1   Retailer ID       9648 non-null   int64         \n",
      " 2   Invoice Date      9648 non-null   datetime64[ns]\n",
      " 3   Region            9648 non-null   object        \n",
      " 4   State             9648 non-null   object        \n",
      " 5   City              9648 non-null   object        \n",
      " 6   Product           9648 non-null   object        \n",
      " 7   Price per Unit    9648 non-null   int64         \n",
      " 8   Units Sold        9648 non-null   int64         \n",
      " 9   Total Sales       9648 non-null   float64       \n",
      " 10  Operating Profit  9648 non-null   float64       \n",
      " 11  Operating Margin  9648 non-null   float64       \n",
      " 12  Sales Method      9648 non-null   object        \n",
      "dtypes: datetime64[ns](1), float64(3), int64(3), object(6)\n",
      "memory usage: 980.0+ KB\n"
     ]
    }
   ],
   "source": [
    "# Informações sobre o tipo de dataframe, bem como a quantidade de colunas e linhas\n",
    "\n",
    "df.info()"
   ]
  },
  {
   "cell_type": "code",
   "execution_count": 278,
   "id": "17a0dede",
   "metadata": {},
   "outputs": [],
   "source": [
    "# Aqui, vamos utilizar nomear uma variável para excluir os objetos e analisar as correlações\n",
    "\n",
    "df1 = df.select_dtypes(exclude = 'object')"
   ]
  },
  {
   "cell_type": "code",
   "execution_count": 382,
   "id": "ca596cd4",
   "metadata": {},
   "outputs": [
    {
     "data": {
      "text/html": [
       "<div>\n",
       "<style scoped>\n",
       "    .dataframe tbody tr th:only-of-type {\n",
       "        vertical-align: middle;\n",
       "    }\n",
       "\n",
       "    .dataframe tbody tr th {\n",
       "        vertical-align: top;\n",
       "    }\n",
       "\n",
       "    .dataframe thead th {\n",
       "        text-align: right;\n",
       "    }\n",
       "</style>\n",
       "<table border=\"1\" class=\"dataframe\">\n",
       "  <thead>\n",
       "    <tr style=\"text-align: right;\">\n",
       "      <th></th>\n",
       "      <th>Retailer ID</th>\n",
       "      <th>Price per Unit</th>\n",
       "      <th>Units Sold</th>\n",
       "      <th>Total Sales</th>\n",
       "      <th>Operating Profit</th>\n",
       "      <th>Operating Margin</th>\n",
       "    </tr>\n",
       "  </thead>\n",
       "  <tbody>\n",
       "    <tr>\n",
       "      <th>Retailer ID</th>\n",
       "      <td>1.000000</td>\n",
       "      <td>-0.391684</td>\n",
       "      <td>-0.003194</td>\n",
       "      <td>-0.083580</td>\n",
       "      <td>-0.027137</td>\n",
       "      <td>0.216780</td>\n",
       "    </tr>\n",
       "    <tr>\n",
       "      <th>Price per Unit</th>\n",
       "      <td>-0.391684</td>\n",
       "      <td>1.000000</td>\n",
       "      <td>0.265869</td>\n",
       "      <td>0.435811</td>\n",
       "      <td>0.394546</td>\n",
       "      <td>-0.137486</td>\n",
       "    </tr>\n",
       "    <tr>\n",
       "      <th>Units Sold</th>\n",
       "      <td>-0.003194</td>\n",
       "      <td>0.265869</td>\n",
       "      <td>1.000000</td>\n",
       "      <td>0.913431</td>\n",
       "      <td>0.892379</td>\n",
       "      <td>-0.305479</td>\n",
       "    </tr>\n",
       "    <tr>\n",
       "      <th>Total Sales</th>\n",
       "      <td>-0.083580</td>\n",
       "      <td>0.435811</td>\n",
       "      <td>0.913431</td>\n",
       "      <td>1.000000</td>\n",
       "      <td>0.956307</td>\n",
       "      <td>-0.364592</td>\n",
       "    </tr>\n",
       "    <tr>\n",
       "      <th>Operating Profit</th>\n",
       "      <td>-0.027137</td>\n",
       "      <td>0.394546</td>\n",
       "      <td>0.892379</td>\n",
       "      <td>0.956307</td>\n",
       "      <td>1.000000</td>\n",
       "      <td>-0.211920</td>\n",
       "    </tr>\n",
       "    <tr>\n",
       "      <th>Operating Margin</th>\n",
       "      <td>0.216780</td>\n",
       "      <td>-0.137486</td>\n",
       "      <td>-0.305479</td>\n",
       "      <td>-0.364592</td>\n",
       "      <td>-0.211920</td>\n",
       "      <td>1.000000</td>\n",
       "    </tr>\n",
       "  </tbody>\n",
       "</table>\n",
       "</div>"
      ],
      "text/plain": [
       "                  Retailer ID  Price per Unit  Units Sold  Total Sales  \\\n",
       "Retailer ID          1.000000       -0.391684   -0.003194    -0.083580   \n",
       "Price per Unit      -0.391684        1.000000    0.265869     0.435811   \n",
       "Units Sold          -0.003194        0.265869    1.000000     0.913431   \n",
       "Total Sales         -0.083580        0.435811    0.913431     1.000000   \n",
       "Operating Profit    -0.027137        0.394546    0.892379     0.956307   \n",
       "Operating Margin     0.216780       -0.137486   -0.305479    -0.364592   \n",
       "\n",
       "                  Operating Profit  Operating Margin  \n",
       "Retailer ID              -0.027137          0.216780  \n",
       "Price per Unit            0.394546         -0.137486  \n",
       "Units Sold                0.892379         -0.305479  \n",
       "Total Sales               0.956307         -0.364592  \n",
       "Operating Profit          1.000000         -0.211920  \n",
       "Operating Margin         -0.211920          1.000000  "
      ]
     },
     "execution_count": 382,
     "metadata": {},
     "output_type": "execute_result"
    }
   ],
   "source": [
    "# Utilizando o pacote do Pandas corr é possível analisar as correlações\n",
    "\n",
    "## A maior correlação que é possível verificar é Operating Profit e Total Sales\n",
    "df.corr()"
   ]
  },
  {
   "cell_type": "code",
   "execution_count": 280,
   "id": "459fc5e8",
   "metadata": {},
   "outputs": [
    {
     "data": {
      "text/html": [
       "<style  type=\"text/css\" >\n",
       "#T_bbee9_row0_col0,#T_bbee9_row1_col1,#T_bbee9_row2_col2,#T_bbee9_row3_col3,#T_bbee9_row4_col4,#T_bbee9_row5_col5{\n",
       "            background-color:  #67000d;\n",
       "            color:  #f1f1f1;\n",
       "        }#T_bbee9_row0_col1,#T_bbee9_row1_col0,#T_bbee9_row3_col5,#T_bbee9_row5_col2,#T_bbee9_row5_col3,#T_bbee9_row5_col4{\n",
       "            background-color:  #fff5f0;\n",
       "            color:  #000000;\n",
       "        }#T_bbee9_row0_col2{\n",
       "            background-color:  #fcc1a8;\n",
       "            color:  #000000;\n",
       "        }#T_bbee9_row0_col3{\n",
       "            background-color:  #fdc9b3;\n",
       "            color:  #000000;\n",
       "        }#T_bbee9_row0_col4{\n",
       "            background-color:  #fed8c7;\n",
       "            color:  #000000;\n",
       "        }#T_bbee9_row0_col5{\n",
       "            background-color:  #fc8161;\n",
       "            color:  #000000;\n",
       "        }#T_bbee9_row1_col2{\n",
       "            background-color:  #fb7d5d;\n",
       "            color:  #000000;\n",
       "        }#T_bbee9_row1_col3{\n",
       "            background-color:  #f34935;\n",
       "            color:  #000000;\n",
       "        }#T_bbee9_row1_col4{\n",
       "            background-color:  #fb694a;\n",
       "            color:  #000000;\n",
       "        }#T_bbee9_row1_col5{\n",
       "            background-color:  #fdd4c2;\n",
       "            color:  #000000;\n",
       "        }#T_bbee9_row2_col0{\n",
       "            background-color:  #fcb296;\n",
       "            color:  #000000;\n",
       "        }#T_bbee9_row2_col1{\n",
       "            background-color:  #fb7353;\n",
       "            color:  #000000;\n",
       "        }#T_bbee9_row2_col3,#T_bbee9_row3_col2{\n",
       "            background-color:  #860811;\n",
       "            color:  #f1f1f1;\n",
       "        }#T_bbee9_row2_col4{\n",
       "            background-color:  #920a13;\n",
       "            color:  #f1f1f1;\n",
       "        }#T_bbee9_row2_col5{\n",
       "            background-color:  #ffeee6;\n",
       "            color:  #000000;\n",
       "        }#T_bbee9_row3_col0{\n",
       "            background-color:  #fcc4ad;\n",
       "            color:  #000000;\n",
       "        }#T_bbee9_row3_col1{\n",
       "            background-color:  #f24633;\n",
       "            color:  #000000;\n",
       "        }#T_bbee9_row3_col4{\n",
       "            background-color:  #79040f;\n",
       "            color:  #f1f1f1;\n",
       "        }#T_bbee9_row4_col0{\n",
       "            background-color:  #fcb79c;\n",
       "            color:  #000000;\n",
       "        }#T_bbee9_row4_col1{\n",
       "            background-color:  #f5523a;\n",
       "            color:  #000000;\n",
       "        }#T_bbee9_row4_col2{\n",
       "            background-color:  #900a12;\n",
       "            color:  #f1f1f1;\n",
       "        }#T_bbee9_row4_col3{\n",
       "            background-color:  #77040f;\n",
       "            color:  #f1f1f1;\n",
       "        }#T_bbee9_row4_col5{\n",
       "            background-color:  #fee3d6;\n",
       "            color:  #000000;\n",
       "        }#T_bbee9_row5_col0{\n",
       "            background-color:  #fc7f5f;\n",
       "            color:  #000000;\n",
       "        }#T_bbee9_row5_col1{\n",
       "            background-color:  #fdd0bc;\n",
       "            color:  #000000;\n",
       "        }</style><table id=\"T_bbee9_\" ><thead>    <tr>        <th class=\"blank level0\" ></th>        <th class=\"col_heading level0 col0\" >Retailer ID</th>        <th class=\"col_heading level0 col1\" >Price per Unit</th>        <th class=\"col_heading level0 col2\" >Units Sold</th>        <th class=\"col_heading level0 col3\" >Total Sales</th>        <th class=\"col_heading level0 col4\" >Operating Profit</th>        <th class=\"col_heading level0 col5\" >Operating Margin</th>    </tr></thead><tbody>\n",
       "                <tr>\n",
       "                        <th id=\"T_bbee9_level0_row0\" class=\"row_heading level0 row0\" >Retailer ID</th>\n",
       "                        <td id=\"T_bbee9_row0_col0\" class=\"data row0 col0\" >1.000000</td>\n",
       "                        <td id=\"T_bbee9_row0_col1\" class=\"data row0 col1\" >-0.391684</td>\n",
       "                        <td id=\"T_bbee9_row0_col2\" class=\"data row0 col2\" >-0.003194</td>\n",
       "                        <td id=\"T_bbee9_row0_col3\" class=\"data row0 col3\" >-0.083580</td>\n",
       "                        <td id=\"T_bbee9_row0_col4\" class=\"data row0 col4\" >-0.027137</td>\n",
       "                        <td id=\"T_bbee9_row0_col5\" class=\"data row0 col5\" >0.216780</td>\n",
       "            </tr>\n",
       "            <tr>\n",
       "                        <th id=\"T_bbee9_level0_row1\" class=\"row_heading level0 row1\" >Price per Unit</th>\n",
       "                        <td id=\"T_bbee9_row1_col0\" class=\"data row1 col0\" >-0.391684</td>\n",
       "                        <td id=\"T_bbee9_row1_col1\" class=\"data row1 col1\" >1.000000</td>\n",
       "                        <td id=\"T_bbee9_row1_col2\" class=\"data row1 col2\" >0.265869</td>\n",
       "                        <td id=\"T_bbee9_row1_col3\" class=\"data row1 col3\" >0.435811</td>\n",
       "                        <td id=\"T_bbee9_row1_col4\" class=\"data row1 col4\" >0.394546</td>\n",
       "                        <td id=\"T_bbee9_row1_col5\" class=\"data row1 col5\" >-0.137486</td>\n",
       "            </tr>\n",
       "            <tr>\n",
       "                        <th id=\"T_bbee9_level0_row2\" class=\"row_heading level0 row2\" >Units Sold</th>\n",
       "                        <td id=\"T_bbee9_row2_col0\" class=\"data row2 col0\" >-0.003194</td>\n",
       "                        <td id=\"T_bbee9_row2_col1\" class=\"data row2 col1\" >0.265869</td>\n",
       "                        <td id=\"T_bbee9_row2_col2\" class=\"data row2 col2\" >1.000000</td>\n",
       "                        <td id=\"T_bbee9_row2_col3\" class=\"data row2 col3\" >0.913431</td>\n",
       "                        <td id=\"T_bbee9_row2_col4\" class=\"data row2 col4\" >0.892379</td>\n",
       "                        <td id=\"T_bbee9_row2_col5\" class=\"data row2 col5\" >-0.305479</td>\n",
       "            </tr>\n",
       "            <tr>\n",
       "                        <th id=\"T_bbee9_level0_row3\" class=\"row_heading level0 row3\" >Total Sales</th>\n",
       "                        <td id=\"T_bbee9_row3_col0\" class=\"data row3 col0\" >-0.083580</td>\n",
       "                        <td id=\"T_bbee9_row3_col1\" class=\"data row3 col1\" >0.435811</td>\n",
       "                        <td id=\"T_bbee9_row3_col2\" class=\"data row3 col2\" >0.913431</td>\n",
       "                        <td id=\"T_bbee9_row3_col3\" class=\"data row3 col3\" >1.000000</td>\n",
       "                        <td id=\"T_bbee9_row3_col4\" class=\"data row3 col4\" >0.956307</td>\n",
       "                        <td id=\"T_bbee9_row3_col5\" class=\"data row3 col5\" >-0.364592</td>\n",
       "            </tr>\n",
       "            <tr>\n",
       "                        <th id=\"T_bbee9_level0_row4\" class=\"row_heading level0 row4\" >Operating Profit</th>\n",
       "                        <td id=\"T_bbee9_row4_col0\" class=\"data row4 col0\" >-0.027137</td>\n",
       "                        <td id=\"T_bbee9_row4_col1\" class=\"data row4 col1\" >0.394546</td>\n",
       "                        <td id=\"T_bbee9_row4_col2\" class=\"data row4 col2\" >0.892379</td>\n",
       "                        <td id=\"T_bbee9_row4_col3\" class=\"data row4 col3\" >0.956307</td>\n",
       "                        <td id=\"T_bbee9_row4_col4\" class=\"data row4 col4\" >1.000000</td>\n",
       "                        <td id=\"T_bbee9_row4_col5\" class=\"data row4 col5\" >-0.211920</td>\n",
       "            </tr>\n",
       "            <tr>\n",
       "                        <th id=\"T_bbee9_level0_row5\" class=\"row_heading level0 row5\" >Operating Margin</th>\n",
       "                        <td id=\"T_bbee9_row5_col0\" class=\"data row5 col0\" >0.216780</td>\n",
       "                        <td id=\"T_bbee9_row5_col1\" class=\"data row5 col1\" >-0.137486</td>\n",
       "                        <td id=\"T_bbee9_row5_col2\" class=\"data row5 col2\" >-0.305479</td>\n",
       "                        <td id=\"T_bbee9_row5_col3\" class=\"data row5 col3\" >-0.364592</td>\n",
       "                        <td id=\"T_bbee9_row5_col4\" class=\"data row5 col4\" >-0.211920</td>\n",
       "                        <td id=\"T_bbee9_row5_col5\" class=\"data row5 col5\" >1.000000</td>\n",
       "            </tr>\n",
       "    </tbody></table>"
      ],
      "text/plain": [
       "<pandas.io.formats.style.Styler at 0x2244ba92040>"
      ]
     },
     "execution_count": 280,
     "metadata": {},
     "output_type": "execute_result"
    }
   ],
   "source": [
    "# Para melhor visualização, teremos o gráfico abaixo confirmando o que foi dito anteriormente:\n",
    "\n",
    "df1.corr().style.background_gradient(cmap = 'Reds')"
   ]
  },
  {
   "cell_type": "markdown",
   "id": "39b1836e",
   "metadata": {},
   "source": [
    "## 2. A partir de agora, analisaremos qual Varejista i.e, Vendedor (Retailer) obteve mais lucro"
   ]
  },
  {
   "cell_type": "code",
   "execution_count": 495,
   "id": "79bac8a4",
   "metadata": {},
   "outputs": [],
   "source": [
    "# Primeiramente, vamos analisar as cidades que mais venderam os produtos da Adidas, para isso, faremos um rank:\n",
    "\n",
    "df_city['Hierarchy_Rank'] = df_city['Total Sales'].rank(ascending=False)\n",
    "\n"
   ]
  },
  {
   "cell_type": "code",
   "execution_count": 496,
   "id": "37d86975",
   "metadata": {},
   "outputs": [
    {
     "data": {
      "text/html": [
       "<div>\n",
       "<style scoped>\n",
       "    .dataframe tbody tr th:only-of-type {\n",
       "        vertical-align: middle;\n",
       "    }\n",
       "\n",
       "    .dataframe tbody tr th {\n",
       "        vertical-align: top;\n",
       "    }\n",
       "\n",
       "    .dataframe thead th {\n",
       "        text-align: right;\n",
       "    }\n",
       "</style>\n",
       "<table border=\"1\" class=\"dataframe\">\n",
       "  <thead>\n",
       "    <tr style=\"text-align: right;\">\n",
       "      <th></th>\n",
       "      <th>Retailer ID</th>\n",
       "      <th>Price per Unit</th>\n",
       "      <th>Units Sold</th>\n",
       "      <th>Total Sales</th>\n",
       "      <th>Operating Profit</th>\n",
       "      <th>Operating Margin</th>\n",
       "      <th>Hierarchy_Rank</th>\n",
       "    </tr>\n",
       "    <tr>\n",
       "      <th>City</th>\n",
       "      <th></th>\n",
       "      <th></th>\n",
       "      <th></th>\n",
       "      <th></th>\n",
       "      <th></th>\n",
       "      <th></th>\n",
       "      <th></th>\n",
       "    </tr>\n",
       "  </thead>\n",
       "  <tbody>\n",
       "    <tr>\n",
       "      <th>Albany</th>\n",
       "      <td>170745408</td>\n",
       "      <td>7326</td>\n",
       "      <td>57186</td>\n",
       "      <td>24427804.0</td>\n",
       "      <td>9429850.91</td>\n",
       "      <td>61.38</td>\n",
       "      <td>10.0</td>\n",
       "    </tr>\n",
       "    <tr>\n",
       "      <th>Albuquerque</th>\n",
       "      <td>243712584</td>\n",
       "      <td>10931</td>\n",
       "      <td>52633</td>\n",
       "      <td>19865016.0</td>\n",
       "      <td>6738060.41</td>\n",
       "      <td>84.87</td>\n",
       "      <td>18.0</td>\n",
       "    </tr>\n",
       "    <tr>\n",
       "      <th>Anchorage</th>\n",
       "      <td>169711614</td>\n",
       "      <td>8239</td>\n",
       "      <td>30815</td>\n",
       "      <td>14753103.0</td>\n",
       "      <td>4498345.86</td>\n",
       "      <td>50.38</td>\n",
       "      <td>30.0</td>\n",
       "    </tr>\n",
       "    <tr>\n",
       "      <th>Atlanta</th>\n",
       "      <td>245263275</td>\n",
       "      <td>10110</td>\n",
       "      <td>56391</td>\n",
       "      <td>18997466.0</td>\n",
       "      <td>6893289.61</td>\n",
       "      <td>89.36</td>\n",
       "      <td>20.0</td>\n",
       "    </tr>\n",
       "    <tr>\n",
       "      <th>Baltimore</th>\n",
       "      <td>170745408</td>\n",
       "      <td>6346</td>\n",
       "      <td>20818</td>\n",
       "      <td>7758059.0</td>\n",
       "      <td>2757642.12</td>\n",
       "      <td>58.67</td>\n",
       "      <td>47.0</td>\n",
       "    </tr>\n",
       "  </tbody>\n",
       "</table>\n",
       "</div>"
      ],
      "text/plain": [
       "             Retailer ID  Price per Unit  Units Sold  Total Sales  \\\n",
       "City                                                                \n",
       "Albany         170745408            7326       57186   24427804.0   \n",
       "Albuquerque    243712584           10931       52633   19865016.0   \n",
       "Anchorage      169711614            8239       30815   14753103.0   \n",
       "Atlanta        245263275           10110       56391   18997466.0   \n",
       "Baltimore      170745408            6346       20818    7758059.0   \n",
       "\n",
       "             Operating Profit  Operating Margin  Hierarchy_Rank  \n",
       "City                                                             \n",
       "Albany             9429850.91             61.38            10.0  \n",
       "Albuquerque        6738060.41             84.87            18.0  \n",
       "Anchorage          4498345.86             50.38            30.0  \n",
       "Atlanta            6893289.61             89.36            20.0  \n",
       "Baltimore          2757642.12             58.67            47.0  "
      ]
     },
     "execution_count": 496,
     "metadata": {},
     "output_type": "execute_result"
    }
   ],
   "source": [
    "# Assim, obteremos:\n",
    "\n",
    "df_city.head(5)"
   ]
  },
  {
   "cell_type": "code",
   "execution_count": 488,
   "id": "af71f957",
   "metadata": {},
   "outputs": [
    {
     "data": {
      "text/plain": [
       "<pandas.core.groupby.generic.DataFrameGroupBy object at 0x000002244BC590A0>"
      ]
     },
     "execution_count": 488,
     "metadata": {},
     "output_type": "execute_result"
    }
   ],
   "source": [
    "df_city.groupby('Hierarchy_Rank')"
   ]
  },
  {
   "cell_type": "code",
   "execution_count": 497,
   "id": "c00fa2f8",
   "metadata": {},
   "outputs": [],
   "source": [
    "# Para esse objetivo, somaremos o total de vendas e agruparemos por Retailer\n",
    "# OBS: É bem parecido com uma consulta do sql, de modo que poderiamos utlizar também aqui, deixaremos para outra oportunidade.\n",
    "\n",
    "df2= df.groupby('Retailer').sum('Total Sales')"
   ]
  },
  {
   "cell_type": "code",
   "execution_count": 498,
   "id": "ae16d143",
   "metadata": {},
   "outputs": [
    {
     "data": {
      "text/html": [
       "<div>\n",
       "<style scoped>\n",
       "    .dataframe tbody tr th:only-of-type {\n",
       "        vertical-align: middle;\n",
       "    }\n",
       "\n",
       "    .dataframe tbody tr th {\n",
       "        vertical-align: top;\n",
       "    }\n",
       "\n",
       "    .dataframe thead th {\n",
       "        text-align: right;\n",
       "    }\n",
       "</style>\n",
       "<table border=\"1\" class=\"dataframe\">\n",
       "  <thead>\n",
       "    <tr style=\"text-align: right;\">\n",
       "      <th></th>\n",
       "      <th>Retailer ID</th>\n",
       "      <th>Price per Unit</th>\n",
       "      <th>Units Sold</th>\n",
       "      <th>Total Sales</th>\n",
       "      <th>Operating Profit</th>\n",
       "      <th>Operating Margin</th>\n",
       "    </tr>\n",
       "    <tr>\n",
       "      <th>Retailer</th>\n",
       "      <th></th>\n",
       "      <th></th>\n",
       "      <th></th>\n",
       "      <th></th>\n",
       "      <th></th>\n",
       "      <th></th>\n",
       "    </tr>\n",
       "  </thead>\n",
       "  <tbody>\n",
       "    <tr>\n",
       "      <th>Amazon</th>\n",
       "      <td>1125259668</td>\n",
       "      <td>46273</td>\n",
       "      <td>197990</td>\n",
       "      <td>77698912.0</td>\n",
       "      <td>28818503.31</td>\n",
       "      <td>396.56</td>\n",
       "    </tr>\n",
       "    <tr>\n",
       "      <th>Foot Locker</th>\n",
       "      <td>3098455585</td>\n",
       "      <td>118098</td>\n",
       "      <td>604369</td>\n",
       "      <td>220094720.0</td>\n",
       "      <td>80722124.81</td>\n",
       "      <td>1102.09</td>\n",
       "    </tr>\n",
       "    <tr>\n",
       "      <th>Kohl's</th>\n",
       "      <td>1212383226</td>\n",
       "      <td>45947</td>\n",
       "      <td>287375</td>\n",
       "      <td>102114753.0</td>\n",
       "      <td>36811252.58</td>\n",
       "      <td>431.87</td>\n",
       "    </tr>\n",
       "    <tr>\n",
       "      <th>Sports Direct</th>\n",
       "      <td>2402814862</td>\n",
       "      <td>85439</td>\n",
       "      <td>557640</td>\n",
       "      <td>182470997.0</td>\n",
       "      <td>74332954.96</td>\n",
       "      <td>904.02</td>\n",
       "    </tr>\n",
       "    <tr>\n",
       "      <th>Walmart</th>\n",
       "      <td>734755930</td>\n",
       "      <td>29537</td>\n",
       "      <td>206225</td>\n",
       "      <td>74558410.0</td>\n",
       "      <td>25782052.61</td>\n",
       "      <td>254.49</td>\n",
       "    </tr>\n",
       "    <tr>\n",
       "      <th>West Gear</th>\n",
       "      <td>2751632862</td>\n",
       "      <td>110956</td>\n",
       "      <td>625262</td>\n",
       "      <td>242964333.0</td>\n",
       "      <td>85667873.18</td>\n",
       "      <td>991.99</td>\n",
       "    </tr>\n",
       "  </tbody>\n",
       "</table>\n",
       "</div>"
      ],
      "text/plain": [
       "               Retailer ID  Price per Unit  Units Sold  Total Sales  \\\n",
       "Retailer                                                              \n",
       "Amazon          1125259668           46273      197990   77698912.0   \n",
       "Foot Locker     3098455585          118098      604369  220094720.0   \n",
       "Kohl's          1212383226           45947      287375  102114753.0   \n",
       "Sports Direct   2402814862           85439      557640  182470997.0   \n",
       "Walmart          734755930           29537      206225   74558410.0   \n",
       "West Gear       2751632862          110956      625262  242964333.0   \n",
       "\n",
       "               Operating Profit  Operating Margin  \n",
       "Retailer                                           \n",
       "Amazon              28818503.31            396.56  \n",
       "Foot Locker         80722124.81           1102.09  \n",
       "Kohl's              36811252.58            431.87  \n",
       "Sports Direct       74332954.96            904.02  \n",
       "Walmart             25782052.61            254.49  \n",
       "West Gear           85667873.18            991.99  "
      ]
     },
     "execution_count": 498,
     "metadata": {},
     "output_type": "execute_result"
    }
   ],
   "source": [
    "# Visualizando;\n",
    "\n",
    "df2.head(10)"
   ]
  },
  {
   "cell_type": "code",
   "execution_count": 385,
   "id": "87de9e0d",
   "metadata": {},
   "outputs": [
    {
     "data": {
      "text/plain": [
       "<seaborn.axisgrid.FacetGrid at 0x2244bb7f520>"
      ]
     },
     "execution_count": 385,
     "metadata": {},
     "output_type": "execute_result"
    },
    {
     "data": {
      "image/png": "[encoded data removed]",
      "text/plain": [
       "<Figure size 360x360 with 1 Axes>"
      ]
     },
     "metadata": {
      "needs_background": "light"
     },
     "output_type": "display_data"
    }
   ],
   "source": [
    "# Nesse caso, vamos analisar graficamente com um gráfico de dispersão, lembrando que no gráfico temos uma potência elevado a \n",
    "# 8, ou seja, estamos falando de quase bilhões, mas ainda na casa dos milhões (10^6 = milhões ou mega, 10^9 = bilhões ou giga)\n",
    "\n",
    "sns.relplot(x=\"Retailer\", y='Total Sales', data=df2)"
   ]
  },
  {
   "cell_type": "code",
   "execution_count": 389,
   "id": "e2656393",
   "metadata": {},
   "outputs": [
    {
     "data": {
      "text/plain": [
       "<AxesSubplot:xlabel='Retailer', ylabel='Total Sales'>"
      ]
     },
     "execution_count": 389,
     "metadata": {},
     "output_type": "execute_result"
    },
    {
     "data": {
      "image/png": "[encoded data removed]",
      "text/plain": [
       "<Figure size 432x288 with 1 Axes>"
      ]
     },
     "metadata": {
      "needs_background": "light"
     },
     "output_type": "display_data"
    }
   ],
   "source": [
    "# Podemos utilizar o gráfico de barras, mas para isso precisamos indexar o parâmetro Retailer\n",
    "\n",
    "df2['Retailer'] = df2.index\n",
    "\n",
    "sns.barplot(x=\"Retailer\", y='Total Sales', data=df2, color =\"salmon\")"
   ]
  },
  {
   "cell_type": "markdown",
   "id": "d70458f1",
   "metadata": {},
   "source": [
    "## 3. Treinamento do Modelo e Previsões"
   ]
  },
  {
   "cell_type": "code",
   "execution_count": 311,
   "id": "0695793d",
   "metadata": {},
   "outputs": [],
   "source": [
    "# Nesse caso, precisamos tratar apenas de dados númericos\n",
    "# Asssim, vamos dar um drop (excluir) os varejistas da tabela e copiar o valor total de vendar\n",
    "\n",
    "x_train = df2.drop(['Retailer','Total Sales'], axis =1)\n",
    "\n",
    "\n",
    "y_train = df2['Total Sales'].copy()"
   ]
  },
  {
   "cell_type": "code",
   "execution_count": 312,
   "id": "2c06cb0a",
   "metadata": {},
   "outputs": [],
   "source": [
    "# Caso tenha valores nulos no dataframe, vamos substituir por zero\n",
    "x1 = x_train.fillna(0)\n",
    "y1 = y_train.fillna(0)"
   ]
  },
  {
   "cell_type": "code",
   "execution_count": 390,
   "id": "34b126ae",
   "metadata": {},
   "outputs": [
    {
     "data": {
      "text/plain": [
       "Retailer\n",
       "Amazon            77698912.0\n",
       "Foot Locker      220094720.0\n",
       "Kohl's           102114753.0\n",
       "Sports Direct    182470997.0\n",
       "Walmart           74558410.0\n",
       "West Gear        242964333.0\n",
       "Name: Total Sales, dtype: float64"
      ]
     },
     "execution_count": 390,
     "metadata": {},
     "output_type": "execute_result"
    }
   ],
   "source": [
    "# É possível observar que não temos tais valores, conforme visualização abaixo:\n",
    "\n",
    "x1.head(6)\n",
    "y1.head(8)"
   ]
  },
  {
   "cell_type": "code",
   "execution_count": 314,
   "id": "a8a57724",
   "metadata": {},
   "outputs": [
    {
     "data": {
      "text/plain": [
       "LinearRegression()"
      ]
     },
     "execution_count": 314,
     "metadata": {},
     "output_type": "execute_result"
    }
   ],
   "source": [
    "# Vamos utlizar LinearRegression da biblioteca linear_model\n",
    "\n",
    "model_lr = ln.LinearRegression()\n",
    "\n",
    "model_lr.fit(x1, y1)"
   ]
  },
  {
   "cell_type": "code",
   "execution_count": 315,
   "id": "13993ba7",
   "metadata": {},
   "outputs": [],
   "source": [
    "# Admitindo uma variável pred, teremos:\n",
    "\n",
    "pred = model_lr.predict(x1)"
   ]
  },
  {
   "cell_type": "code",
   "execution_count": 316,
   "id": "200bae35",
   "metadata": {},
   "outputs": [
    {
     "data": {
      "text/plain": [
       "array([7.76989120e+07, 2.20094720e+08, 1.02114753e+08, 1.82470997e+08,\n",
       "       7.45584100e+07, 2.42964333e+08])"
      ]
     },
     "execution_count": 316,
     "metadata": {},
     "output_type": "execute_result"
    }
   ],
   "source": [
    "# As 20 primeiras:\n",
    "\n",
    "pred[0:20]"
   ]
  },
  {
   "cell_type": "code",
   "execution_count": 391,
   "id": "aa5bbcc8",
   "metadata": {},
   "outputs": [],
   "source": [
    "# Agora, manipularemos os dados de modo a obter os resultados\n",
    "\n",
    "ds1 = df2.copy()"
   ]
  },
  {
   "cell_type": "code",
   "execution_count": 392,
   "id": "7188e25b",
   "metadata": {},
   "outputs": [],
   "source": [
    "# Criaremos uma nova coluna na tabela df2 que agora é a ds1\n",
    "\n",
    "ds1['Previsão'] = pred"
   ]
  },
  {
   "cell_type": "code",
   "execution_count": 405,
   "id": "eadfee10",
   "metadata": {},
   "outputs": [
    {
     "data": {
      "text/html": [
       "<div>\n",
       "<style scoped>\n",
       "    .dataframe tbody tr th:only-of-type {\n",
       "        vertical-align: middle;\n",
       "    }\n",
       "\n",
       "    .dataframe tbody tr th {\n",
       "        vertical-align: top;\n",
       "    }\n",
       "\n",
       "    .dataframe thead th {\n",
       "        text-align: right;\n",
       "    }\n",
       "</style>\n",
       "<table border=\"1\" class=\"dataframe\">\n",
       "  <thead>\n",
       "    <tr style=\"text-align: right;\">\n",
       "      <th></th>\n",
       "      <th>Total Sales</th>\n",
       "      <th>Previsão</th>\n",
       "      <th>error</th>\n",
       "      <th>erros_abs</th>\n",
       "      <th>error_perc</th>\n",
       "      <th>error_perc_abs</th>\n",
       "    </tr>\n",
       "    <tr>\n",
       "      <th>Retailer</th>\n",
       "      <th></th>\n",
       "      <th></th>\n",
       "      <th></th>\n",
       "      <th></th>\n",
       "      <th></th>\n",
       "      <th></th>\n",
       "    </tr>\n",
       "  </thead>\n",
       "  <tbody>\n",
       "    <tr>\n",
       "      <th>Amazon</th>\n",
       "      <td>77698912.0</td>\n",
       "      <td>7.769891e+07</td>\n",
       "      <td>0.000129</td>\n",
       "      <td>0.000129</td>\n",
       "      <td>1.659479e-12</td>\n",
       "      <td>1.659479e-12</td>\n",
       "    </tr>\n",
       "    <tr>\n",
       "      <th>Foot Locker</th>\n",
       "      <td>220094720.0</td>\n",
       "      <td>2.200947e+08</td>\n",
       "      <td>-0.000158</td>\n",
       "      <td>0.000158</td>\n",
       "      <td>-7.195518e-13</td>\n",
       "      <td>7.195518e-13</td>\n",
       "    </tr>\n",
       "    <tr>\n",
       "      <th>Kohl's</th>\n",
       "      <td>102114753.0</td>\n",
       "      <td>1.021148e+08</td>\n",
       "      <td>0.000102</td>\n",
       "      <td>0.000102</td>\n",
       "      <td>9.941914e-13</td>\n",
       "      <td>9.941914e-13</td>\n",
       "    </tr>\n",
       "    <tr>\n",
       "      <th>Sports Direct</th>\n",
       "      <td>182470997.0</td>\n",
       "      <td>1.824710e+08</td>\n",
       "      <td>-0.000086</td>\n",
       "      <td>0.000086</td>\n",
       "      <td>-4.713599e-13</td>\n",
       "      <td>4.713599e-13</td>\n",
       "    </tr>\n",
       "    <tr>\n",
       "      <th>Walmart</th>\n",
       "      <td>74558410.0</td>\n",
       "      <td>7.455841e+07</td>\n",
       "      <td>0.000162</td>\n",
       "      <td>0.000162</td>\n",
       "      <td>2.166470e-12</td>\n",
       "      <td>2.166470e-12</td>\n",
       "    </tr>\n",
       "    <tr>\n",
       "      <th>West Gear</th>\n",
       "      <td>242964333.0</td>\n",
       "      <td>2.429643e+08</td>\n",
       "      <td>-0.000149</td>\n",
       "      <td>0.000149</td>\n",
       "      <td>-6.128159e-13</td>\n",
       "      <td>6.128159e-13</td>\n",
       "    </tr>\n",
       "  </tbody>\n",
       "</table>\n",
       "</div>"
      ],
      "text/plain": [
       "               Total Sales      Previsão     error  erros_abs    error_perc  \\\n",
       "Retailer                                                                      \n",
       "Amazon          77698912.0  7.769891e+07  0.000129   0.000129  1.659479e-12   \n",
       "Foot Locker    220094720.0  2.200947e+08 -0.000158   0.000158 -7.195518e-13   \n",
       "Kohl's         102114753.0  1.021148e+08  0.000102   0.000102  9.941914e-13   \n",
       "Sports Direct  182470997.0  1.824710e+08 -0.000086   0.000086 -4.713599e-13   \n",
       "Walmart         74558410.0  7.455841e+07  0.000162   0.000162  2.166470e-12   \n",
       "West Gear      242964333.0  2.429643e+08 -0.000149   0.000149 -6.128159e-13   \n",
       "\n",
       "               error_perc_abs  \n",
       "Retailer                       \n",
       "Amazon           1.659479e-12  \n",
       "Foot Locker      7.195518e-13  \n",
       "Kohl's           9.941914e-13  \n",
       "Sports Direct    4.713599e-13  \n",
       "Walmart          2.166470e-12  \n",
       "West Gear        6.128159e-13  "
      ]
     },
     "execution_count": 405,
     "metadata": {},
     "output_type": "execute_result"
    }
   ],
   "source": [
    "# Os dados estão abaixo para visualização da previsão, erro (positivo ou negativo), módulo do erro, erro percentual  (positivo ou negativo)\n",
    "# e módulo do erro percentual\n",
    "\n",
    "ds1[['Total Sales', 'Previsão', 'error', 'erros_abs', 'error_perc', 'error_perc_abs']].head(10)"
   ]
  },
  {
   "cell_type": "code",
   "execution_count": 410,
   "id": "0da93abb",
   "metadata": {},
   "outputs": [],
   "source": [
    "# Manipulando as colunas e criando novas para obtenção dos valores visualizados nas tabelas\n",
    "\n",
    "ds1['error'] = ds1['Total Sales'] - ds1['Previsão']\n",
    "ds1['erros_abs'] = np.abs(ds1['error'])\n",
    "ds1['error_perc']= (ds1['Total Sales'] - ds1['Previsão'])/ds1['Total Sales']\n",
    "\n",
    "ds1['error_perc_abs'] = np.abs(ds1['error_perc'])\n",
    "\n"
   ]
  },
  {
   "cell_type": "code",
   "execution_count": 409,
   "id": "3d7c0881",
   "metadata": {},
   "outputs": [
    {
     "data": {
      "text/plain": [
       "1.1039781242970589e-12"
      ]
     },
     "execution_count": 409,
     "metadata": {},
     "output_type": "execute_result"
    }
   ],
   "source": [
    "# Por fim nosso erro foi 10^-12!!! Um belo início.\n",
    "\n",
    "np.mean(ds1['error_perc_abs'])"
   ]
  },
  {
   "cell_type": "code",
   "execution_count": 411,
   "id": "a99c9f1c",
   "metadata": {},
   "outputs": [
    {
     "data": {
      "text/plain": [
       "<seaborn.axisgrid.FacetGrid at 0x2243a0bb550>"
      ]
     },
     "execution_count": 411,
     "metadata": {},
     "output_type": "execute_result"
    },
    {
     "data": {
      "image/png": "[encoded data removed]",
      "text/plain": [
       "<Figure size 360x360 with 1 Axes>"
      ]
     },
     "metadata": {
      "needs_background": "light"
     },
     "output_type": "display_data"
    }
   ],
   "source": [
    "# Plotando as previsões vs Os valores totais, são seis pontos no gráfico, referente aos 6 verejistas.\n",
    "\n",
    "sns.relplot(x='Previsão', y='Total Sales', data=ds1)"
   ]
  },
  {
   "cell_type": "code",
   "execution_count": 412,
   "id": "414a6ea5",
   "metadata": {},
   "outputs": [
    {
     "data": {
      "text/plain": [
       "<matplotlib.legend.Legend at 0x2243a011fd0>"
      ]
     },
     "execution_count": 412,
     "metadata": {},
     "output_type": "execute_result"
    },
    {
     "data": {
      "image/png": "[encoded data removed]",
      "text/plain": [
       "<Figure size 432x288 with 1 Axes>"
      ]
     },
     "metadata": {
      "needs_background": "light"
     },
     "output_type": "display_data"
    }
   ],
   "source": [
    "# É possível afirmar que o acerto foi de quase 100%\n",
    "\n",
    "plt.plot('prediction',data=ds1)\n",
    "plt.plot('Total Sales',data=ds1)\n",
    "plt.legend(['prediction', 'Total Sales'])"
   ]
  },
  {
   "cell_type": "code",
   "execution_count": 414,
   "id": "9ca0ae4d",
   "metadata": {},
   "outputs": [
    {
     "data": {
      "text/html": [
       "<div>\n",
       "<style scoped>\n",
       "    .dataframe tbody tr th:only-of-type {\n",
       "        vertical-align: middle;\n",
       "    }\n",
       "\n",
       "    .dataframe tbody tr th {\n",
       "        vertical-align: top;\n",
       "    }\n",
       "\n",
       "    .dataframe thead th {\n",
       "        text-align: right;\n",
       "    }\n",
       "</style>\n",
       "<table border=\"1\" class=\"dataframe\">\n",
       "  <thead>\n",
       "    <tr style=\"text-align: right;\">\n",
       "      <th></th>\n",
       "      <th>Total Sales</th>\n",
       "      <th>Previsão</th>\n",
       "      <th>error</th>\n",
       "      <th>erros_abs</th>\n",
       "      <th>error_perc</th>\n",
       "    </tr>\n",
       "    <tr>\n",
       "      <th>Retailer</th>\n",
       "      <th></th>\n",
       "      <th></th>\n",
       "      <th></th>\n",
       "      <th></th>\n",
       "      <th></th>\n",
       "    </tr>\n",
       "  </thead>\n",
       "  <tbody>\n",
       "    <tr>\n",
       "      <th>Amazon</th>\n",
       "      <td>77698912.0</td>\n",
       "      <td>7.769891e+07</td>\n",
       "      <td>0.000129</td>\n",
       "      <td>0.000129</td>\n",
       "      <td>1.659479e-12</td>\n",
       "    </tr>\n",
       "    <tr>\n",
       "      <th>Foot Locker</th>\n",
       "      <td>220094720.0</td>\n",
       "      <td>2.200947e+08</td>\n",
       "      <td>-0.000158</td>\n",
       "      <td>0.000158</td>\n",
       "      <td>-7.195518e-13</td>\n",
       "    </tr>\n",
       "    <tr>\n",
       "      <th>Kohl's</th>\n",
       "      <td>102114753.0</td>\n",
       "      <td>1.021148e+08</td>\n",
       "      <td>0.000102</td>\n",
       "      <td>0.000102</td>\n",
       "      <td>9.941914e-13</td>\n",
       "    </tr>\n",
       "    <tr>\n",
       "      <th>Sports Direct</th>\n",
       "      <td>182470997.0</td>\n",
       "      <td>1.824710e+08</td>\n",
       "      <td>-0.000086</td>\n",
       "      <td>0.000086</td>\n",
       "      <td>-4.713599e-13</td>\n",
       "    </tr>\n",
       "    <tr>\n",
       "      <th>Walmart</th>\n",
       "      <td>74558410.0</td>\n",
       "      <td>7.455841e+07</td>\n",
       "      <td>0.000162</td>\n",
       "      <td>0.000162</td>\n",
       "      <td>2.166470e-12</td>\n",
       "    </tr>\n",
       "    <tr>\n",
       "      <th>West Gear</th>\n",
       "      <td>242964333.0</td>\n",
       "      <td>2.429643e+08</td>\n",
       "      <td>-0.000149</td>\n",
       "      <td>0.000149</td>\n",
       "      <td>-6.128159e-13</td>\n",
       "    </tr>\n",
       "  </tbody>\n",
       "</table>\n",
       "</div>"
      ],
      "text/plain": [
       "               Total Sales      Previsão     error  erros_abs    error_perc\n",
       "Retailer                                                                   \n",
       "Amazon          77698912.0  7.769891e+07  0.000129   0.000129  1.659479e-12\n",
       "Foot Locker    220094720.0  2.200947e+08 -0.000158   0.000158 -7.195518e-13\n",
       "Kohl's         102114753.0  1.021148e+08  0.000102   0.000102  9.941914e-13\n",
       "Sports Direct  182470997.0  1.824710e+08 -0.000086   0.000086 -4.713599e-13\n",
       "Walmart         74558410.0  7.455841e+07  0.000162   0.000162  2.166470e-12\n",
       "West Gear      242964333.0  2.429643e+08 -0.000149   0.000149 -6.128159e-13"
      ]
     },
     "execution_count": 414,
     "metadata": {},
     "output_type": "execute_result"
    }
   ],
   "source": [
    "ds1[['Total Sales', 'Previsão', 'error', 'erros_abs', 'error_perc']].head(10)"
   ]
  },
  {
   "cell_type": "markdown",
   "id": "4a2e53c1",
   "metadata": {},
   "source": [
    "## 4. Conclusões:\n",
    "\n",
    "- 1. O maior vendendor foi West Gear\n",
    "- 2. As previsões obtiveram um erro de 10^-12\n",
    "- 3. Operating Profit (lucro operacional) tem bastante influência no valor total de vendas\n",
    "- 4. A cidade que mais vendeu foi Charleston, com aproximadamente 152 mil habitantes\n",
    "- 5. A cidade que menos vendeu foi Omaha, com aproximadamente 486 mil habitantes"
   ]
  }
 ],
 "metadata": {
  "kernelspec": {
   "display_name": "Python 3",
   "language": "python",
   "name": "python3"
  },
  "language_info": {
   "codemirror_mode": {
    "name": "ipython",
    "version": 3
   },
   "file_extension": ".py",
   "mimetype": "text/x-python",
   "name": "python",
   "nbconvert_exporter": "python",
   "pygments_lexer": "ipython3",
   "version": "3.8.8"
  }
 },
 "nbformat": 4,
 "nbformat_minor": 5
}
